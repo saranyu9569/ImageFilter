{
  "cells": [
    {
      "cell_type": "markdown",
      "metadata": {
        "id": "BMaysKgECSxf"
      },
      "source": [
        "##Filters"
      ]
    },
    {
      "cell_type": "code",
      "execution_count": null,
      "metadata": {
        "id": "cnW4cS6-CRpE"
      },
      "outputs": [],
      "source": [
        "img = cv2.imread(\"/content/bird.jpg\")\n",
        "img = cv2.cvtColor(img, cv2.COLOR_BGR2RGB)\n",
        "plt.imshow(img)"
      ]
    },
    {
      "cell_type": "code",
      "execution_count": null,
      "metadata": {
        "id": "es-smEx6Ce9n"
      },
      "outputs": [],
      "source": [
        "img_blur = cv2.blur(img, (5, 5))\n",
        "\n",
        "fig, ax = plt.subplots(1, 2, figsize = (20, 10))\n",
        "ax[0].imshow(img)\n",
        "ax[1].imshow(img_blur)"
      ]
    },
    {
      "cell_type": "code",
      "execution_count": null,
      "metadata": {
        "id": "0RDRFQBaCkZD"
      },
      "outputs": [],
      "source": [
        "img_gauss = cv2.GaussianBlur(img, (5, 5), 0)\n",
        "\n",
        "fig, ax = plt.subplots(1, 2, figsize = (20, 10))\n",
        "ax[0].imshow(img)\n",
        "ax[1].imshow(img_gauss)"
      ]
    },
    {
      "cell_type": "code",
      "execution_count": null,
      "metadata": {
        "id": "83sIqsELC8k5"
      },
      "outputs": [],
      "source": [
        "img_gray = cv2.cvtColor(imag, cv2.COLOR_RGB2GRAY)\n",
        "sobelx = cv2.Sobel(img_gray, cv2.CV_64F, 1, 0, 5)\n",
        "sobely = cv2.Sobel(img_gray, cv2.CV_64F, 0, 1, 5)\n",
        "sobelxy = cv2.Sobel(img_gray, cv2.CV_64F, 1, 1, 5)\n",
        "\n",
        "fig, ax = plt.subplots(1, 3, figsize = (20, 10))\n",
        "ax[0].imshow(sobelx, cmap = \"gray\")\n",
        "ax[1].imshow(sobely, cmap = \"gray\")\n",
        "ax[2].imshow(sobelxy, cmap = \"gray\")"
      ]
    },
    {
      "cell_type": "code",
      "execution_count": null,
      "metadata": {
        "id": "Ui8ioMJ4DnaD"
      },
      "outputs": [],
      "source": [
        "img_canny = cv2.Canny(img_gray, threshold1 = 100, threshold2 = 200)\n",
        "\n",
        "plt.imshow(img_canny, cmap = \"gray\")"
      ]
    },
    {
      "cell_type": "code",
      "execution_count": null,
      "metadata": {
        "id": "HyoFsHHgDxna"
      },
      "outputs": [],
      "source": [
        "img_gauss = cv2.GaussianBlur(img_gray, (15, 15), 0)\n",
        "gamma = 0.7\n",
        "lap = cv2.Laplacian(img_gauss, cv2.CV_64F)\n",
        "img_sharp = img_gray * gamma - lap\n",
        "lap_show = np.zeros(lap.shape)\n",
        "\n",
        "fig, ax = plt.subplots(1, 3, figsize = (20, 10))\n",
        "ax[0].imshow(img_gray, cmap = 'gray')\n",
        "ax[1].imshow(lap_show, cmap = 'gray')\n",
        "ax[2].imshow(img_sharp, cmap = 'gray')"
      ]
    }
  ],
  "metadata": {
    "colab": {
      "provenance": []
    },
    "kernelspec": {
      "display_name": "Python 3",
      "name": "python3"
    },
    "language_info": {
      "name": "python"
    }
  },
  "nbformat": 4,
  "nbformat_minor": 0
}
